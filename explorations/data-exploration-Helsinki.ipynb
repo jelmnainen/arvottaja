{
 "cells": [
  {
   "cell_type": "markdown",
   "metadata": {},
   "source": [
    "# This notebook contains your standard data exploration"
   ]
  },
  {
   "cell_type": "code",
   "execution_count": null,
   "metadata": {},
   "outputs": [],
   "source": [
    "import os\n",
    "import matplotlib.pyplot as plt\n",
    "import pandas as pd\n",
    "import re\n",
    "from datetime import datetime\n",
    "from sklearn.linear_model import LinearRegression\n",
    "import numpy as np\n",
    "import seaborn as sns\n",
    "\n",
    "pd.set_option('display.max_columns', None)\n"
   ]
  },
  {
   "cell_type": "code",
   "execution_count": null,
   "metadata": {},
   "outputs": [],
   "source": [
    "price_data_dir = '../scrapers/asuntojen-hintatiedot/scraped_data/'\n",
    "assert os.path.exists(price_data_dir), f'directory {price_data_dir} did not exist!'\n",
    "\n",
    "for path, dirs, files in os.walk(price_data_dir):\n",
    "    break\n",
    "    \n",
    "print(files)"
   ]
  },
  {
   "cell_type": "code",
   "execution_count": null,
   "metadata": {},
   "outputs": [],
   "source": [
    "file_path = price_data_dir + '2021-04-19_Helsinki.csv'\n",
    "data = pd.read_csv(file_path)"
   ]
  },
  {
   "cell_type": "code",
   "execution_count": null,
   "metadata": {},
   "outputs": [],
   "source": [
    "data"
   ]
  },
  {
   "cell_type": "markdown",
   "metadata": {},
   "source": [
    "## Data wrangling happens here"
   ]
  },
  {
   "cell_type": "code",
   "execution_count": null,
   "metadata": {},
   "outputs": [],
   "source": [
    "def get_number_of_rooms(data):\n",
    "    room_arrangement = data[\"room_arrangement\"]\n",
    "    if not type(room_arrangement) == str:\n",
    "        return 0\n",
    "    if (room_arrangement == 'AH'):\n",
    "        # AH = asuinhuoneisto = single room, no toilet/kitchen/etc, use special value\n",
    "        return 0.5\n",
    "    variable_rooms_regexp = re.compile('([0-9])-([0-9])\\s?h', re.IGNORECASE)\n",
    "    variable_rooms = variable_rooms_regexp.findall(room_arrangement)\n",
    "    if len(variable_rooms) > 0:\n",
    "        return ((int(variable_rooms[0][0]) + int(variable_rooms[0][1])) / 2)\n",
    "    simple_rooms_regexp = re.compile('([0-9])\\s?h', re.IGNORECASE)\n",
    "    simple_rooms = simple_rooms_regexp.findall(room_arrangement)\n",
    "    if len(simple_rooms) > 0:\n",
    "        return int(simple_rooms[0])\n",
    "    return 0\n",
    "\n",
    "def correct_neighbourhood(data):\n",
    "    if type(data[\"neighbourhood\"]) == str:\n",
    "        if 'tapiola' in data[\"neighbourhood\"].lower():\n",
    "            return 'Tapiola'\n",
    "        neighborhood_regexp = re.compile('^[a-zöä\\-]*', re.IGNORECASE)\n",
    "        neighborhood = neighborhood_regexp.findall(data[\"neighbourhood\"])\n",
    "        if len(neighborhood) > 0:\n",
    "            return neighborhood[0]\n",
    "    return ''\n",
    "\n",
    "def calculate_neighbourhood_avg_price(data):\n",
    "    neighborhood_prices = {}\n",
    "    grouped = data.groupby('neighbourhood')\n",
    "    for name, group in grouped:\n",
    "        neighborhood_prices[name] = round(sum(group[\"price_per_square_meters\"]) / len(group[\"price_per_square_meters\"]))\n",
    "    return neighborhood_prices\n",
    "\n",
    "def set_neighbourhood_price(prices):\n",
    "    def set_price(data):\n",
    "        return prices[data[\"neighbourhood\"]]\n",
    "    return set_price\n"
   ]
  },
  {
   "cell_type": "code",
   "execution_count": null,
   "metadata": {},
   "outputs": [],
   "source": [
    "data[\"number_of_rooms\"] = data.apply(get_number_of_rooms, axis=1)\n",
    "data[\"shape_is_good\"] = (data[\"shape\"] == 'good') * 1\n",
    "data[\"has_elevator\"] = data[\"has_elevator\"] * 1\n",
    "data[\"age\"] = datetime.today().year - data[\"built_in\"]\n",
    "data[\"is_apartment\"] = (data[\"house_type\"] == \"apartment\") * 1\n",
    "data[\"is_rowhouse\"] = (data[\"house_type\"] == \"rowhouse\") * 1\n",
    "data[\"is_townhouse\"] = (data[\"house_type\"] == \"townhouse\") * 1\n",
    "data[\"lot_is_owned\"] = (data[\"lot\"] == \"owned\") * 1\n",
    "\n",
    "# neighbourhoods\n",
    "data['neighbourhood'] = data['neighborhood'].replace(np.nan, '')\n",
    "data[\"neighbourhood\"] = data.apply(correct_neighbourhood, axis=1)\n",
    "data['neighbourhood'] = data['neighbourhood'].replace('neighbourhood', 'unknown')\n",
    "\n",
    "neighbourhood_prices = calculate_neighbourhood_avg_price(data)\n",
    "data[\"neighbourhood_avg_price\"] = data.apply(set_neighbourhood_price(neighbourhood_prices), axis=1)\n",
    "data"
   ]
  },
  {
   "cell_type": "code",
   "execution_count": null,
   "metadata": {
    "scrolled": true,
    "tags": []
   },
   "outputs": [],
   "source": [
    "data.sort_values('neighborhood').neighborhood.unique()"
   ]
  },
  {
   "cell_type": "code",
   "execution_count": null,
   "metadata": {
    "scrolled": true,
    "tags": []
   },
   "outputs": [],
   "source": [
    "neighbourhood_prices"
   ]
  },
  {
   "cell_type": "code",
   "execution_count": null,
   "metadata": {},
   "outputs": [],
   "source": [
    "neigh_rooms_df = data.groupby(['neighbourhood', 'house_type', 'number_of_rooms']).mean().reset_index()[['neighbourhood', 'house_type', 'number_of_rooms', 'square_meters', 'price_including_loans', 'price_per_square_meters', 'age', 'neighbourhood_avg_price']]\n",
    "neigh_rooms_df['diff_neigh_avg'] = neigh_rooms_df['price_per_square_meters'] - neigh_rooms_df['neighbourhood_avg_price']\n",
    "neigh_rooms_df"
   ]
  },
  {
   "cell_type": "code",
   "execution_count": null,
   "metadata": {},
   "outputs": [],
   "source": [
    "neighbourhood_prices_df = pd.DataFrame(index=['price_m2'], data=neighbourhood_prices).T\n",
    "neighbourhood_wl = ['Oulunkylä', 'Patola',\n",
    "                             'Munkkiniemi',\n",
    "                             'Munkkivuori',\n",
    "                             #'Pikku huopalahti', \n",
    "                             'Pikku-huopalahti', \n",
    "                             'Pohjois-haaga', \n",
    "                             #'Pohjois haaga', \n",
    "                             'Etelä-haaga', \n",
    "                             'Lassila', 'Meilahti', \n",
    "                             #'Pikkuhuopalahti'\n",
    "                            ]\n",
    "neighbourhood_prices_df.loc[neighbourhood_wl]"
   ]
  },
  {
   "cell_type": "markdown",
   "metadata": {},
   "source": [
    "## Visualize data"
   ]
  },
  {
   "cell_type": "code",
   "execution_count": null,
   "metadata": {},
   "outputs": [],
   "source": [
    "def show_values_on_bars(axs, perc=False, round_to=0):\n",
    "    def _show_on_single_plot(ax):\n",
    "        for p in ax.patches:\n",
    "            if np.isnan(p.get_height()):\n",
    "                continue\n",
    "            _x = p.get_x() + p.get_width() / 2\n",
    "            _y = p.get_y() + p.get_height()\n",
    "            _h = p.get_height()\n",
    "            value = _h * 100 if perc else _h\n",
    "            value = round(value, round_to)\n",
    "            value = str(int(value)) if round_to == 0 else str(value)\n",
    "            ax.text(_x, _y, value, ha=\"center\", fontsize=8)\n",
    "\n",
    "    if isinstance(axs, np.ndarray):\n",
    "        for idx, ax in np.ndenumerate(axs):\n",
    "            _show_on_single_plot(ax)\n",
    "    else:\n",
    "        _show_on_single_plot(axs)\n"
   ]
  },
  {
   "cell_type": "markdown",
   "metadata": {},
   "source": [
    "#### Neighbourhoods "
   ]
  },
  {
   "cell_type": "code",
   "execution_count": null,
   "metadata": {},
   "outputs": [],
   "source": [
    "fig, ax = plt.subplots(figsize=(24, 10), dpi=140, facecolor='w')\n",
    "\n",
    "colors = plt.get_cmap('plasma')(np.arange(0, data.shape[0]))\n",
    "neighbourhood_data = data[[\"neighbourhood\", \"neighbourhood_avg_price\"]].drop_duplicates().sort_values(by='neighbourhood_avg_price')\n",
    "\n",
    "ax.bar(neighbourhood_data[\"neighbourhood\"], neighbourhood_data[\"neighbourhood_avg_price\"], color=colors)\n",
    "plt.yticks(list(range(0,15000, 1000)))\n",
    "plt.xticks(rotation=90, fontsize=7)\n",
    "plt.title(\"Neigborhood price range\")\n",
    "plt.ylabel(\"Price, €\")\n",
    "plt.xlabel(\"Neighborhood\")\n",
    "plt.margins(0)\n",
    "plt.grid()\n",
    "\n",
    "plt.show()"
   ]
  },
  {
   "cell_type": "markdown",
   "metadata": {},
   "source": [
    "#### Neighbourhoods by house type and number of rooms "
   ]
  },
  {
   "cell_type": "code",
   "execution_count": null,
   "metadata": {},
   "outputs": [],
   "source": [
    "fig, ax = plt.subplots(figsize=(12, 8), dpi=140, facecolor='w')\n",
    "\n",
    "htype = 'apartment'\n",
    "neighbourhoods_wl = [\n",
    "    'Oulunkylä', \n",
    "    'Patola',        \n",
    "    'Meilahti', \n",
    "    'Munkkiniemi',\n",
    "    'Munkkivuori',\n",
    "    'Pikkuhuopalahti',\n",
    "    'Pikku huopalahti', \n",
    "    'Pikku-huopalahti', \n",
    "    'Pohjois-haaga', \n",
    "    'Pohjois haaga', \n",
    "    'Etelä-haaga', \n",
    "    'Lassila',\n",
    "    'Kannelmäki',\n",
    "]\n",
    "\n",
    "mask = neigh_rooms_df.neighbourhood.apply(lambda n: n in neighbourhoods_wl)\n",
    "to_plot_df = neigh_rooms_df[mask]\n",
    "to_plot_df = to_plot_df.query(f'house_type == \"{htype}\"')\n",
    "\n",
    "ax = sns.barplot(data=to_plot_df,\n",
    "                x='neighbourhood',\n",
    "                y='price_per_square_meters', \n",
    "                hue='number_of_rooms'\n",
    "           )\n",
    "\n",
    "show_values_on_bars(ax)\n",
    "ax.legend(bbox_to_anchor=(1.01, 1))\n",
    "\n",
    "ax.set_title(f'average price of {htype}s per m2 in chosen neighborhoods by number of rooms')\n",
    "\n",
    "plt.tight_layout()\n",
    "plt.show()"
   ]
  },
  {
   "cell_type": "code",
   "execution_count": null,
   "metadata": {},
   "outputs": [],
   "source": [
    "fig, ax = plt.subplots(figsize=(20, 10))\n",
    "house_type_colors = {\n",
    "    'is_apartment': 'purple',\n",
    "    'is_rowhouse': 'cyan',\n",
    "    'is_townhouse': 'blue'\n",
    "}\n",
    "for house_type in [\"is_apartment\", \"is_rowhouse\", \"is_townhouse\"]:\n",
    "    type_data = data[data[house_type] == 1]\n",
    "    ax.scatter(type_data[\"square_meters\"], type_data[\"price_including_loans\"], color=house_type_colors[house_type], label=house_type)\n",
    "    \n",
    "plt.title(\"Apartment size in square meters vs price\")\n",
    "plt.ylabel(\"Price, m€\")\n",
    "plt.xlabel(\"Size, m^2\")\n",
    "plt.legend()\n",
    "\n",
    "plt.show()"
   ]
  },
  {
   "cell_type": "code",
   "execution_count": null,
   "metadata": {},
   "outputs": [],
   "source": [
    "fig, ax = plt.subplots(figsize=(20, 10))\n",
    "\n",
    "ax.scatter(data[\"square_meters\"], data[\"number_of_rooms\"])\n",
    "    \n",
    "plt.title(\"Apartment size square meters vs room numbers\")\n",
    "plt.ylabel(\"Number of rooms\")\n",
    "plt.xlabel(\"Size, m^2\")\n",
    "\n",
    "plt.show()"
   ]
  },
  {
   "cell_type": "markdown",
   "metadata": {},
   "source": [
    "### Thoughts on apartment size vs room numbers\n",
    "- quite a lot of 0s in there, might need some extra cleaning on the wrangling part?\n",
    "- looks like there is a pretty linear dependency between number of rooms and size, which is again unsuprising\n"
   ]
  },
  {
   "cell_type": "code",
   "execution_count": null,
   "metadata": {},
   "outputs": [],
   "source": [
    "fig, ax = plt.subplots(figsize=(20, 10))\n",
    "house_type_colors = {\n",
    "    'is_apartment': 'purple',\n",
    "    'is_rowhouse': 'cyan',\n",
    "    'is_townhouse': 'blue'\n",
    "}\n",
    "for house_type in [\"is_apartment\", \"is_rowhouse\", \"is_townhouse\"]:\n",
    "    type_data = data[data[house_type] == 1]\n",
    "    ax.scatter(type_data[\"age\"], type_data[ \"price_including_loans\"], color=house_type_colors[house_type], label=house_type)\n",
    "    \n",
    "plt.title(\"House age vs price\")\n",
    "plt.ylabel(\"Price, m€\")\n",
    "plt.xlabel(\"Age, years\")\n",
    "plt.legend()\n",
    "\n",
    "plt.show()"
   ]
  },
  {
   "cell_type": "markdown",
   "metadata": {},
   "source": [
    "### Thoughts on age vs price\n",
    "- well, rather surprisingly, apartment age does not seem to correlate with its price"
   ]
  },
  {
   "cell_type": "code",
   "execution_count": null,
   "metadata": {},
   "outputs": [],
   "source": [
    "fig, ax = plt.subplots(figsize=(20, 10))\n",
    "house_type_colors = {\n",
    "    'is_apartment': 'purple',\n",
    "    'is_rowhouse': 'cyan',\n",
    "    'is_townhouse': 'blue'\n",
    "}\n",
    "\n",
    "for house_type in [\"is_apartment\", \"is_rowhouse\", \"is_townhouse\"]:\n",
    "    type_data = data[data[house_type] == 1]\n",
    "    scale = 25 + (75 * type_data[\"shape_is_good\"])\n",
    "    ax.scatter(type_data[\"age\"], type_data[ \"price_including_loans\"], color=house_type_colors[house_type], label=house_type, s=scale)\n",
    "    \n",
    "plt.title(\"House age vs price\")\n",
    "plt.ylabel(\"Price, m€\")\n",
    "plt.xlabel(\"Age, years\")\n",
    "plt.legend()\n",
    "\n",
    "plt.show()"
   ]
  },
  {
   "cell_type": "code",
   "execution_count": null,
   "metadata": {},
   "outputs": [],
   "source": [
    "f'C{data[\"lot_is_owned\"].iloc[0]}'"
   ]
  },
  {
   "cell_type": "code",
   "execution_count": null,
   "metadata": {},
   "outputs": [],
   "source": [
    "fig, ax = plt.subplots(figsize=(20, 10))\n",
    "\n",
    "for house_type in [1, 0]:\n",
    "    type_data = data[data[\"lot_is_owned\"] == house_type]\n",
    "    ax.scatter(type_data[\"square_meters\"], type_data[ \"price_including_loans\"], c=f'C{type_data[\"lot_is_owned\"].iloc[0]}', label=house_type)\n",
    "    \n",
    "plt.title(\"Apartment size vs price by lot owned(1) or rented(0)\")\n",
    "plt.ylabel(\"Price, m€\")\n",
    "plt.xlabel(\"Size in square meters\")\n",
    "plt.legend()\n",
    "\n",
    "plt.show()"
   ]
  },
  {
   "cell_type": "markdown",
   "metadata": {},
   "source": [
    "## Do regression!"
   ]
  },
  {
   "cell_type": "code",
   "execution_count": null,
   "metadata": {},
   "outputs": [],
   "source": [
    "data.columns"
   ]
  },
  {
   "cell_type": "code",
   "execution_count": null,
   "metadata": {},
   "outputs": [],
   "source": [
    "x = data[['square_meters', 'has_elevator', 'shape_is_good', 'age', 'is_apartment','is_rowhouse', 'is_townhouse', 'lot_is_owned']]\n",
    "y = data[\"price_including_loans\"]\n"
   ]
  },
  {
   "cell_type": "code",
   "execution_count": null,
   "metadata": {},
   "outputs": [],
   "source": [
    "\n",
    "model = LinearRegression().fit(x, y)"
   ]
  },
  {
   "cell_type": "code",
   "execution_count": null,
   "metadata": {},
   "outputs": [],
   "source": [
    "model.coef_"
   ]
  },
  {
   "cell_type": "code",
   "execution_count": null,
   "metadata": {},
   "outputs": [],
   "source": [
    "candidate_apartment = np.array([50, 1, 1, 30, 0, 1, 0, 0]).reshape(1, -1)\n",
    "model.predict(candidate_apartment)"
   ]
  },
  {
   "cell_type": "markdown",
   "metadata": {},
   "source": [
    "## Only apartments!"
   ]
  },
  {
   "cell_type": "code",
   "execution_count": null,
   "metadata": {},
   "outputs": [],
   "source": [
    "htype = 'apartment'\n",
    "neighbourhoods_wl = [\n",
    "    'Oulunkylä', \n",
    "    'Patola',        \n",
    "    #'Meilahti', \n",
    "    #'Munkkiniemi',\n",
    "    'Munkkivuori',\n",
    "    #'Pikkuhuopalahti',\n",
    "    #'Pikku huopalahti', \n",
    "    #'Pikku-huopalahti', \n",
    "    'Pohjois-haaga', \n",
    "    'Pohjois haaga', \n",
    "    #'Etelä-haaga', \n",
    "    'Lassila',\n",
    "    'Kannelmäki',\n",
    "]\n",
    "\n",
    "mask = data.neighbourhood.apply(lambda n: n in neighbourhoods_wl)\n",
    "train_df = data[mask]\n",
    "train_df = train_df.query(f'house_type == \"{htype}\"')\n",
    "\n",
    "train_df"
   ]
  },
  {
   "cell_type": "code",
   "execution_count": null,
   "metadata": {},
   "outputs": [],
   "source": [
    "x = train_df[['square_meters', 'shape_is_good', 'age', 'has_elevator', 'lot_is_owned']]\n",
    "y = train_df[\"price_including_loans\"]"
   ]
  },
  {
   "cell_type": "code",
   "execution_count": null,
   "metadata": {},
   "outputs": [],
   "source": [
    "model = LinearRegression().fit(x, y)"
   ]
  },
  {
   "cell_type": "code",
   "execution_count": null,
   "metadata": {},
   "outputs": [],
   "source": [
    "model.coef_"
   ]
  },
  {
   "cell_type": "code",
   "execution_count": null,
   "metadata": {},
   "outputs": [],
   "source": [
    "candidate = np.array([44.6, 1, 50, 1, 0]).reshape(1, -1)\n",
    "cand_ren = 45000\n",
    "cand_price = 189000\n",
    "model.predict(candidate)"
   ]
  },
  {
   "cell_type": "markdown",
   "metadata": {},
   "source": [
    "## Plot candidate"
   ]
  },
  {
   "cell_type": "code",
   "execution_count": null,
   "metadata": {},
   "outputs": [],
   "source": [
    "sq_x = np.array(train_df['square_meters']).reshape(-1, 1)\n",
    "sq_y = train_df[\"price_including_loans\"]\n",
    "sm_model = LinearRegression().fit(sq_x, sq_y)"
   ]
  },
  {
   "cell_type": "code",
   "execution_count": null,
   "metadata": {},
   "outputs": [],
   "source": [
    "sm_coef = sm_model.coef_\n",
    "sm_intercept = sm_model.intercept_"
   ]
  },
  {
   "cell_type": "code",
   "execution_count": null,
   "metadata": {},
   "outputs": [],
   "source": [
    "\n",
    "pred, asked, asked_w_ren = model.predict(candidate), cand_price, cand_price + cand_ren\n",
    "\n",
    "fig, ax = plt.subplots(figsize=(12, 8), facecolor='w', dpi=150)\n",
    "\n",
    "ax.scatter(train_df[\"square_meters\"], train_df[ \"price_including_loans\"])\n",
    "\n",
    "ax.scatter(44.6, pred, label=f\"Candidate predicted price {pred[0]//1000}k€\", s=100)\n",
    "ax.scatter(44.6, asked, label=f\"Candidate asked price {asked//1000}k€\", s=100)\n",
    "ax.scatter(44.6, asked_w_ren, label=f\"Candidate price w estimated 10y renovations {asked_w_ren//1000}k€\", s=100)\n",
    "sm_max = 120\n",
    "plt.plot((0, sm_max), (sm_intercept, sm_max*sm_coef + sm_intercept), c='m', label=\"Chosen neighbourhoods estimated price, aka market price\")\n",
    "\n",
    "plt.title(f\"m2 vs price in chosen neighbourhoods\\n{neighbourhoods_wl}\")\n",
    "plt.ylabel(\"Price (€)\")\n",
    "plt.xlabel(\"Size in square meters\")\n",
    "plt.grid(True)\n",
    "plt.legend()\n",
    "\n",
    "plt.tight_layout()\n",
    "\n",
    "plt.show()"
   ]
  },
  {
   "cell_type": "markdown",
   "metadata": {},
   "source": [
    "#### Estimate value gain "
   ]
  },
  {
   "cell_type": "code",
   "execution_count": null,
   "metadata": {},
   "outputs": [],
   "source": [
    "cand_price, cand_ren"
   ]
  },
  {
   "cell_type": "code",
   "execution_count": null,
   "metadata": {},
   "outputs": [],
   "source": [
    "offer = -9000"
   ]
  },
  {
   "cell_type": "code",
   "execution_count": null,
   "metadata": {},
   "outputs": [],
   "source": [
    "selling_price = cand_price + offer\n",
    "selling_price"
   ]
  },
  {
   "cell_type": "code",
   "execution_count": null,
   "metadata": {},
   "outputs": [],
   "source": [
    "money_in = selling_price + cand_ren\n",
    "money_in"
   ]
  },
  {
   "cell_type": "code",
   "execution_count": null,
   "metadata": {},
   "outputs": [],
   "source": [
    "expected_revenue_perc = 7"
   ]
  },
  {
   "cell_type": "code",
   "execution_count": null,
   "metadata": {},
   "outputs": [],
   "source": [
    "required_reselling_price = money_in * (100 + expected_revenue_perc) / 100\n",
    "required_reselling_price"
   ]
  },
  {
   "cell_type": "code",
   "execution_count": null,
   "metadata": {},
   "outputs": [],
   "source": [
    "reselling_price = 240000\n",
    "reselling_price"
   ]
  },
  {
   "cell_type": "code",
   "execution_count": null,
   "metadata": {},
   "outputs": [],
   "source": [
    "profit = reselling_price - money_in\n",
    "profit"
   ]
  },
  {
   "cell_type": "code",
   "execution_count": null,
   "metadata": {},
   "outputs": [],
   "source": [
    "profit_perc = profit / money_in * 100 // 1\n",
    "profit_perc"
   ]
  },
  {
   "cell_type": "markdown",
   "metadata": {},
   "source": [
    "#### Helsinki € / m2 development for past 2y "
   ]
  },
  {
   "cell_type": "code",
   "execution_count": null,
   "metadata": {},
   "outputs": [],
   "source": [
    "two_y_ago = 5422\n",
    "last_mon = 6130\n",
    "\n",
    "incr_perc = (last_mon - two_y_ago) / two_y_ago * 100\n",
    "incr_perc"
   ]
  },
  {
   "cell_type": "markdown",
   "metadata": {},
   "source": [
    "#### Two room apartments in Helsinki 2y dev "
   ]
  },
  {
   "cell_type": "code",
   "execution_count": null,
   "metadata": {},
   "outputs": [],
   "source": [
    "two_y_ago = 5334\n",
    "last_mon = 5881\n",
    "incr_perc = (last_mon - two_y_ago) / two_y_ago * 100\n",
    "incr_perc"
   ]
  }
 ],
 "metadata": {
  "kernelspec": {
   "display_name": "Python 3",
   "language": "python",
   "name": "python3"
  },
  "language_info": {
   "codemirror_mode": {
    "name": "ipython",
    "version": 3
   },
   "file_extension": ".py",
   "mimetype": "text/x-python",
   "name": "python",
   "nbconvert_exporter": "python",
   "pygments_lexer": "ipython3",
   "version": "3.6.9"
  }
 },
 "nbformat": 4,
 "nbformat_minor": 4
}
