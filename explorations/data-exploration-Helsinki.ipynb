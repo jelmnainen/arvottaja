{
 "cells": [
  {
   "cell_type": "markdown",
   "metadata": {},
   "source": [
    "# This notebook contains your standard data exploration"
   ]
  },
  {
   "cell_type": "code",
   "execution_count": null,
   "metadata": {},
   "outputs": [],
   "source": [
    "import os\n",
    "import matplotlib.pyplot as plt\n",
    "import pandas as pd\n",
    "import re\n",
    "from datetime import datetime\n",
    "from sklearn.linear_model import LinearRegression\n",
    "import numpy as np"
   ]
  },
  {
   "cell_type": "code",
   "execution_count": null,
   "metadata": {},
   "outputs": [],
   "source": [
    "price_data_dir = '../scrapers/asuntojen-hintatiedot/scraped_data/'\n",
    "assert os.path.exists(price_data_dir), f'directory {price_data_dir} did not exist!'\n",
    "\n",
    "for path, dirs, files in os.walk(price_data_dir):\n",
    "    break\n",
    "    \n",
    "print(files)"
   ]
  },
  {
   "cell_type": "code",
   "execution_count": null,
   "metadata": {},
   "outputs": [],
   "source": [
    "file_path = price_data_dir + '2021-04-19_Helsinki.csv'\n",
    "data = pd.read_csv(file_path)"
   ]
  },
  {
   "cell_type": "code",
   "execution_count": null,
   "metadata": {},
   "outputs": [],
   "source": [
    "data"
   ]
  },
  {
   "cell_type": "markdown",
   "metadata": {},
   "source": [
    "## Data wrangling happens here"
   ]
  },
  {
   "cell_type": "code",
   "execution_count": null,
   "metadata": {},
   "outputs": [],
   "source": [
    "def get_number_of_rooms(data):\n",
    "    room_arrangement = data[\"room_arrangement\"]\n",
    "    if not type(room_arrangement) == str:\n",
    "        return 0\n",
    "    if (room_arrangement == 'AH'):\n",
    "        # AH = asuinhuoneisto = single room, no toilet/kitchen/etc, use special value\n",
    "        return 0.5\n",
    "    variable_rooms_regexp = re.compile('([0-9])-([0-9])\\s?h', re.IGNORECASE)\n",
    "    variable_rooms = variable_rooms_regexp.findall(room_arrangement)\n",
    "    if len(variable_rooms) > 0:\n",
    "        return ((int(variable_rooms[0][0]) + int(variable_rooms[0][1])) / 2)\n",
    "    simple_rooms_regexp = re.compile('([0-9])\\s?h', re.IGNORECASE)\n",
    "    simple_rooms = simple_rooms_regexp.findall(room_arrangement)\n",
    "    if len(simple_rooms) > 0:\n",
    "        return int(simple_rooms[0])\n",
    "    return 0\n",
    "\n",
    "def correct_neighbourhood(data):\n",
    "    if type(data[\"neighbourhood\"]) == str:\n",
    "        if 'tapiola' in data[\"neighbourhood\"].lower():\n",
    "            return 'Tapiola'\n",
    "        neighborhood_regexp = re.compile('^[a-zöä\\-]*', re.IGNORECASE)\n",
    "        neighborhood = neighborhood_regexp.findall(data[\"neighbourhood\"])\n",
    "        if len(neighborhood) > 0:\n",
    "            return neighborhood[0]\n",
    "    return ''\n",
    "\n",
    "def calculate_neighbourhood_avg_price(data):\n",
    "    neighborhood_prices = {}\n",
    "    grouped = data.groupby('neighbourhood')\n",
    "    for name, group in grouped:\n",
    "        neighborhood_prices[name] = round(sum(group[\"price_per_square_meters\"]) / len(group[\"price_per_square_meters\"]))\n",
    "    return neighborhood_prices\n",
    "\n",
    "def set_neighbourhood_price(prices):\n",
    "    def set_price(data):\n",
    "        return prices[data[\"neighbourhood\"]]\n",
    "    return set_price\n"
   ]
  },
  {
   "cell_type": "code",
   "execution_count": null,
   "metadata": {},
   "outputs": [],
   "source": [
    "data[\"number_of_rooms\"] = data.apply(get_number_of_rooms, axis=1)\n",
    "data[\"shape_is_good\"] = (data[\"shape\"] == 'good') * 1\n",
    "data[\"has_elevator\"] = data[\"has_elevator\"] * 1\n",
    "data[\"age\"] = datetime.today().year - data[\"built_in\"]\n",
    "data[\"is_apartment\"] = (data[\"house_type\"] == \"apartment\") * 1\n",
    "data[\"is_rowhouse\"] = (data[\"house_type\"] == \"rowhouse\") * 1\n",
    "data[\"is_townhouse\"] = (data[\"house_type\"] == \"townhouse\") * 1\n",
    "data[\"lot_is_owned\"] = (data[\"lot\"] == \"owned\") * 1\n",
    "\n",
    "# neighbourhoods\n",
    "data['neighbourhood'] = data['neighborhood'].replace(np.nan, '')\n",
    "data[\"neighbourhood\"] = data.apply(correct_neighbourhood, axis=1)\n",
    "data['neighbourhood'] = data['neighbourhood'].replace('neighbourhood', 'unknown')\n",
    "\n",
    "neighbourhood_prices = calculate_neighbourhood_avg_price(data)\n",
    "data[\"neighbourhood_avg_price\"] = data.apply(set_neighbourhood_price(neighbourhood_prices), axis=1)\n",
    "data"
   ]
  },
  {
   "cell_type": "code",
   "execution_count": null,
   "metadata": {},
   "outputs": [],
   "source": [
    "neighbourhood_prices_df = pd.DataFrame(index=['price_m2'], data=neighbourhood_prices).T\n",
    "neighbourhood_prices_df.loc[['Oulunkylä', 'Patola', 'Pohjois-haaga', 'Etelä-haaga', 'Lassila', 'Meilahti']]"
   ]
  },
  {
   "cell_type": "markdown",
   "metadata": {},
   "source": [
    "## Visualize data"
   ]
  },
  {
   "cell_type": "code",
   "execution_count": null,
   "metadata": {},
   "outputs": [],
   "source": [
    "fig, ax = plt.subplots(figsize=(24, 10), dpi=140, facecolor='w')\n",
    "\n",
    "colors = plt.get_cmap('plasma')(np.arange(0, data.shape[0]))\n",
    "neighbourhood_data = data[[\"neighbourhood\", \"neighbourhood_avg_price\"]].drop_duplicates().sort_values(by='neighbourhood_avg_price')\n",
    "\n",
    "ax.bar(neighbourhood_data[\"neighbourhood\"], neighbourhood_data[\"neighbourhood_avg_price\"], color=colors)\n",
    "plt.yticks(list(range(0,15000, 1000)))\n",
    "plt.xticks(rotation=90, fontsize=7)\n",
    "plt.title(\"Neigborhood price range\")\n",
    "plt.ylabel(\"Price, €\")\n",
    "plt.xlabel(\"Neighborhood\")\n",
    "plt.margins(0)\n",
    "plt.grid()\n",
    "\n",
    "plt.show()"
   ]
  },
  {
   "cell_type": "code",
   "execution_count": null,
   "metadata": {},
   "outputs": [],
   "source": [
    "fig, ax = plt.subplots(figsize=(20, 10))\n",
    "house_type_colors = {\n",
    "    'is_apartment': 'purple',\n",
    "    'is_rowhouse': 'cyan',\n",
    "    'is_townhouse': 'blue'\n",
    "}\n",
    "for house_type in [\"is_apartment\", \"is_rowhouse\", \"is_townhouse\"]:\n",
    "    type_data = data[data[house_type] == 1]\n",
    "    ax.scatter(type_data[\"square_meters\"], type_data[\"price_including_loans\"], color=house_type_colors[house_type], label=house_type)\n",
    "    \n",
    "plt.title(\"Apartment size in square meters vs price\")\n",
    "plt.ylabel(\"Price, m€\")\n",
    "plt.xlabel(\"Size, m^2\")\n",
    "plt.legend()\n",
    "\n",
    "plt.show()"
   ]
  },
  {
   "cell_type": "code",
   "execution_count": null,
   "metadata": {},
   "outputs": [],
   "source": [
    "fig, ax = plt.subplots(figsize=(20, 10))\n",
    "\n",
    "ax.scatter(data[\"square_meters\"], data[\"number_of_rooms\"])\n",
    "    \n",
    "plt.title(\"Apartment size square meters vs room numbers\")\n",
    "plt.ylabel(\"Number of rooms\")\n",
    "plt.xlabel(\"Size, m^2\")\n",
    "\n",
    "plt.show()"
   ]
  },
  {
   "cell_type": "markdown",
   "metadata": {},
   "source": [
    "### Thoughts on apartment size vs room numbers\n",
    "- quite a lot of 0s in there, might need some extra cleaning on the wrangling part?\n",
    "- looks like there is a pretty linear dependency between number of rooms and size, which is again unsuprising\n"
   ]
  },
  {
   "cell_type": "code",
   "execution_count": null,
   "metadata": {},
   "outputs": [],
   "source": [
    "fig, ax = plt.subplots(figsize=(20, 10))\n",
    "house_type_colors = {\n",
    "    'is_apartment': 'purple',\n",
    "    'is_rowhouse': 'cyan',\n",
    "    'is_townhouse': 'blue'\n",
    "}\n",
    "for house_type in [\"is_apartment\", \"is_rowhouse\", \"is_townhouse\"]:\n",
    "    type_data = data[data[house_type] == 1]\n",
    "    ax.scatter(type_data[\"age\"], type_data[ \"price_including_loans\"], color=house_type_colors[house_type], label=house_type)\n",
    "    \n",
    "plt.title(\"House age vs price\")\n",
    "plt.ylabel(\"Price, m€\")\n",
    "plt.xlabel(\"Age, years\")\n",
    "plt.legend()\n",
    "\n",
    "plt.show()"
   ]
  },
  {
   "cell_type": "markdown",
   "metadata": {},
   "source": [
    "### Thoughts on age vs price\n",
    "- well, rather surprisingly, apartment age does not seem to correlate with its price"
   ]
  },
  {
   "cell_type": "code",
   "execution_count": null,
   "metadata": {},
   "outputs": [],
   "source": [
    "fig, ax = plt.subplots(figsize=(20, 10))\n",
    "house_type_colors = {\n",
    "    'is_apartment': 'purple',\n",
    "    'is_rowhouse': 'cyan',\n",
    "    'is_townhouse': 'blue'\n",
    "}\n",
    "\n",
    "for house_type in [\"is_apartment\", \"is_rowhouse\", \"is_townhouse\"]:\n",
    "    type_data = data[data[house_type] == 1]\n",
    "    scale = 25 + (75 * type_data[\"shape_is_good\"])\n",
    "    ax.scatter(type_data[\"age\"], type_data[ \"price_including_loans\"], color=house_type_colors[house_type], label=house_type, s=scale)\n",
    "    \n",
    "plt.title(\"House age vs price\")\n",
    "plt.ylabel(\"Price, m€\")\n",
    "plt.xlabel(\"Age, years\")\n",
    "plt.legend()\n",
    "\n",
    "plt.show()"
   ]
  },
  {
   "cell_type": "code",
   "execution_count": null,
   "metadata": {},
   "outputs": [],
   "source": [
    "f'C{data[\"lot_is_owned\"].iloc[0]}'"
   ]
  },
  {
   "cell_type": "code",
   "execution_count": null,
   "metadata": {},
   "outputs": [],
   "source": [
    "fig, ax = plt.subplots(figsize=(20, 10))\n",
    "\n",
    "for house_type in [1, 0]:\n",
    "    type_data = data[data[\"lot_is_owned\"] == house_type]\n",
    "    ax.scatter(type_data[\"square_meters\"], type_data[ \"price_including_loans\"], c=f'C{type_data[\"lot_is_owned\"].iloc[0]}', label=house_type)\n",
    "    \n",
    "plt.title(\"Apartment size vs price by lot owned(1) or rented(0)\")\n",
    "plt.ylabel(\"Price, m€\")\n",
    "plt.xlabel(\"Size in square meters\")\n",
    "plt.legend()\n",
    "\n",
    "plt.show()"
   ]
  },
  {
   "cell_type": "markdown",
   "metadata": {},
   "source": [
    "## Do regression!"
   ]
  },
  {
   "cell_type": "code",
   "execution_count": null,
   "metadata": {},
   "outputs": [],
   "source": [
    "data.columns"
   ]
  },
  {
   "cell_type": "code",
   "execution_count": null,
   "metadata": {},
   "outputs": [],
   "source": [
    "x = data[['square_meters', 'has_elevator', 'shape_is_good', 'age', 'is_apartment','is_rowhouse', 'is_townhouse', 'lot_is_owned']]\n",
    "y = data[\"price_including_loans\"]\n"
   ]
  },
  {
   "cell_type": "code",
   "execution_count": null,
   "metadata": {},
   "outputs": [],
   "source": [
    "\n",
    "model = LinearRegression().fit(x, y)"
   ]
  },
  {
   "cell_type": "code",
   "execution_count": null,
   "metadata": {},
   "outputs": [],
   "source": [
    "model.coef_"
   ]
  },
  {
   "cell_type": "code",
   "execution_count": null,
   "metadata": {},
   "outputs": [],
   "source": [
    "candidate_apartment = np.array([50, 1, 1, 30, 0, 1, 0, 0]).reshape(1, -1)\n",
    "model.predict(candidate_apartment)"
   ]
  },
  {
   "cell_type": "markdown",
   "metadata": {},
   "source": [
    "## Only rowhouses!"
   ]
  },
  {
   "cell_type": "code",
   "execution_count": null,
   "metadata": {},
   "outputs": [],
   "source": [
    "rowhouse_data = data[data[\"is_rowhouse\"] == 1]\n",
    "rw_x = rowhouse_data[['square_meters', 'shape_is_good', 'age', 'lot_is_owned']]\n",
    "rw_y = rowhouse_data[\"price_including_loans\"]"
   ]
  },
  {
   "cell_type": "code",
   "execution_count": null,
   "metadata": {},
   "outputs": [],
   "source": [
    "rowhouse_model = LinearRegression().fit(rw_x, rw_y)"
   ]
  },
  {
   "cell_type": "code",
   "execution_count": null,
   "metadata": {},
   "outputs": [],
   "source": [
    "rowhouse_model.coef_"
   ]
  },
  {
   "cell_type": "code",
   "execution_count": null,
   "metadata": {},
   "outputs": [],
   "source": [
    "candidate_rowhouse = np.array([80, 1, 30, 1]).reshape(1, -1)\n",
    "rowhouse_model.predict(candidate_rowhouse)"
   ]
  },
  {
   "cell_type": "markdown",
   "metadata": {},
   "source": [
    "## Plot candidate"
   ]
  },
  {
   "cell_type": "code",
   "execution_count": null,
   "metadata": {},
   "outputs": [],
   "source": [
    "rowhouse_data = data[data[\"is_rowhouse\"] == 1]\n",
    "rw_sq_x = np.array(rowhouse_data['square_meters']).reshape(-1, 1)\n",
    "rw_sq_y = rowhouse_data[\"price_including_loans\"]\n",
    "rowhouse_square_meter_model = LinearRegression().fit(rw_sq_x, rw_sq_y)"
   ]
  },
  {
   "cell_type": "code",
   "execution_count": null,
   "metadata": {},
   "outputs": [],
   "source": [
    "rw_coef = rowhouse_square_meter_model.coef_\n",
    "rw_intercept = rowhouse_square_meter_model.intercept_"
   ]
  },
  {
   "cell_type": "code",
   "execution_count": null,
   "metadata": {},
   "outputs": [],
   "source": [
    "fig, ax = plt.subplots(figsize=(20, 10))\n",
    "\n",
    "ax.scatter(rowhouse_data[\"square_meters\"], rowhouse_data[ \"price_including_loans\"])\n",
    "ax.scatter(110, 409414, label=\"Candidate predicted price\", s=100)\n",
    "ax.scatter(110, 498367, label=\"Candidate asking price\", s=100)\n",
    "plt.plot((0, 250), (rw_intercept, 250*rw_coef + rw_intercept), c='m', label=\"Rowhouse square meter estimated price\")\n",
    "\n",
    "plt.title(\"Rowhouse size vs price\")\n",
    "plt.ylabel(\"Price, m€\")\n",
    "plt.xlabel(\"Size in square meters\")\n",
    "plt.grid(True)\n",
    "plt.legend()"
   ]
  },
  {
   "cell_type": "code",
   "execution_count": null,
   "metadata": {},
   "outputs": [],
   "source": []
  }
 ],
 "metadata": {
  "kernelspec": {
   "display_name": "Python 3",
   "language": "python",
   "name": "python3"
  },
  "language_info": {
   "codemirror_mode": {
    "name": "ipython",
    "version": 3
   },
   "file_extension": ".py",
   "mimetype": "text/x-python",
   "name": "python",
   "nbconvert_exporter": "python",
   "pygments_lexer": "ipython3",
   "version": "3.6.9"
  }
 },
 "nbformat": 4,
 "nbformat_minor": 4
}
